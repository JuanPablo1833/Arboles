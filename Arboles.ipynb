{
  "nbformat": 4,
  "nbformat_minor": 0,
  "metadata": {
    "colab": {
      "name": "Arboles.ipynb",
      "provenance": [],
      "authorship_tag": "ABX9TyNSbJy5x9WVUjGYqE2CNymZ",
      "include_colab_link": true
    },
    "kernelspec": {
      "name": "python3",
      "display_name": "Python 3"
    },
    "language_info": {
      "name": "python"
    }
  },
  "cells": [
    {
      "cell_type": "markdown",
      "metadata": {
        "id": "view-in-github",
        "colab_type": "text"
      },
      "source": [
        "<a href=\"https://colab.research.google.com/github/JuanPablo1833/Arboles/blob/main/Arboles.ipynb\" target=\"_parent\"><img src=\"https://colab.research.google.com/assets/colab-badge.svg\" alt=\"Open In Colab\"/></a>"
      ]
    },
    {
      "cell_type": "code",
      "metadata": {
        "id": "TPdFv8UmCRO8"
      },
      "source": [
        "class NodoBinario:\n",
        "    def __init__(self, value, left = None, right = None):\n",
        "        self.data = value \n",
        "        self.left = left\n",
        "        self.right = right\n",
        "\n",
        "class NodoTernario:\n",
        "    def __init__(self, value, left = None, center = None, right = None):  \n",
        "        self.data = value \n",
        "        self.left = left\n",
        "        self.center = center\n",
        "        self.right = right   \n",
        "\n"
      ],
      "execution_count": 18,
      "outputs": []
    },
    {
      "cell_type": "code",
      "metadata": {
        "colab": {
          "base_uri": "https://localhost:8080/"
        },
        "id": "UNR0kZbnD6p2",
        "outputId": "a9dc18c6-5538-444e-fb40-a63341043b67"
      },
      "source": [
        "arbol1 = NodoBinario(\"R\", NodoBinario(\"c\"), NodoBinario(\"h\"))\n",
        "print(arbol1.right.data)\n",
        "\n",
        "arbol2 = NodoTernario(4, NodoTernario(3, NodoTernario(5, left=NodoTernario(2) ) \\\n",
        "        , NodoTernario(5) , NodoTernario(2))  , None , NodoTernario(5) )\n",
        "print( arbol2.left.right.data)\n",
        "print( arbol2.data)\n",
        "print( arbol2.left.center.data)\n",
        "print( arbol2.right.left)\n",
        "print( arbol2.left.left.left.data)\n",
        "print(\"______________sin usar la palabra print__________\")\n",
        "ejemplo = arbol2.left.left.left.data\n",
        "print(ejemplo)\n",
        "print(\"______________ de otra forma_____________\")\n",
        "aux = arbol2\n",
        "while( aux.left != None):\n",
        "    aux = aux.left\n",
        "print( aux.data )\n"
      ],
      "execution_count": 39,
      "outputs": [
        {
          "output_type": "stream",
          "name": "stdout",
          "text": [
            "h\n",
            "2\n",
            "4\n",
            "5\n",
            "None\n",
            "2\n",
            "______________sin usar la palabra print__________\n",
            "2\n",
            "______________ de otra forma_____________\n",
            "2\n"
          ]
        }
      ]
    },
    {
      "cell_type": "code",
      "metadata": {
        "colab": {
          "base_uri": "https://localhost:8080/"
        },
        "id": "st_8ekhME3e6",
        "outputId": "f5a66228-7acb-4b78-a3da-95bbc3d38de0"
      },
      "source": [
        "root = NodoBinario(\" Santi \", None , NodoBinario(\" Jesus \", NodoBinario(\" Pedro \", None , NodoBinario(\" Pedro jr\"))))\n",
        "print(root.right.left.right.data)"
      ],
      "execution_count": 40,
      "outputs": [
        {
          "output_type": "stream",
          "name": "stdout",
          "text": [
            " Pedro jr\n"
          ]
        }
      ]
    }
  ]
}